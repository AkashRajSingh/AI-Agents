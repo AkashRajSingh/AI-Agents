{
  "nbformat": 4,
  "nbformat_minor": 0,
  "metadata": {
    "colab": {
      "provenance": []
    },
    "kernelspec": {
      "name": "python3",
      "display_name": "Python 3"
    },
    "language_info": {
      "name": "python"
    }
  },
  "cells": [
    {
      "cell_type": "markdown",
      "source": [
        "## A simple conversational chatbot built using Langchain framework, on *Gemini-2.0 flash* , with chat history storing capability."
      ],
      "metadata": {
        "id": "b7aZIVxswbY7"
      }
    },
    {
      "cell_type": "code",
      "source": [
        " %pip install -q langchain\n",
        " %pip install -q langchain-community\n",
        " %pip install -q langchain_google_genai"
      ],
      "metadata": {
        "id": "dvu1jB7wElaL",
        "colab": {
          "base_uri": "https://localhost:8080/"
        },
        "outputId": "e83ee24b-381a-45be-8a2d-68afb1225fd8"
      },
      "execution_count": null,
      "outputs": [
        {
          "output_type": "stream",
          "name": "stdout",
          "text": [
            "\u001b[?25l   \u001b[90m━━━━━━━━━━━━━━━━━━━━━━━━━━━━━━━━━━━━━━━━\u001b[0m \u001b[32m0.0/47.8 kB\u001b[0m \u001b[31m?\u001b[0m eta \u001b[36m-:--:--\u001b[0m\r\u001b[2K   \u001b[90m━━━━━━━━━━━━━━━━━━━━━━━━━━━━━━━━━━━━━━━━\u001b[0m \u001b[32m47.8/47.8 kB\u001b[0m \u001b[31m3.2 MB/s\u001b[0m eta \u001b[36m0:00:00\u001b[0m\n",
            "\u001b[?25h\u001b[?25l   \u001b[90m━━━━━━━━━━━━━━━━━━━━━━━━━━━━━━━━━━━━━━━━\u001b[0m \u001b[32m0.0/1.4 MB\u001b[0m \u001b[31m?\u001b[0m eta \u001b[36m-:--:--\u001b[0m\r\u001b[2K   \u001b[90m━━━━━━━━━━━━━━━━━━━━━━━━━━━━━━━━━━━━━━━━\u001b[0m \u001b[32m1.4/1.4 MB\u001b[0m \u001b[31m45.9 MB/s\u001b[0m eta \u001b[36m0:00:00\u001b[0m\n",
            "\u001b[?25h"
          ]
        }
      ]
    },
    {
      "cell_type": "code",
      "source": [
        "from langchain_google_genai import ChatGoogleGenerativeAI\n",
        "from langchain_core.runnables.history import RunnableWithMessageHistory\n",
        "from langchain.memory import ChatMessageHistory\n",
        "from langchain_core.prompts import ChatPromptTemplate, MessagesPlaceholder\n",
        "import os\n",
        "from dotenv import load_dotenv\n",
        "from google.colab import userdata\n",
        "\n",
        "os.environ[\"GOOGLE_API_KEY\"] = userdata.get(\"GOOGLE_API_KEY\") #Google colab secrets\n"
      ],
      "metadata": {
        "id": "uhs4fIrZF035"
      },
      "execution_count": null,
      "outputs": []
    },
    {
      "cell_type": "code",
      "source": [
        "llm = ChatGoogleGenerativeAI(model='gemini-2.0-flash-001',max_tokens=500, temperature=0)"
      ],
      "metadata": {
        "id": "tzdrex6OG-5a"
      },
      "execution_count": null,
      "outputs": []
    },
    {
      "cell_type": "code",
      "source": [
        "llm.invoke(\"How are you?\").content"
      ],
      "metadata": {
        "colab": {
          "base_uri": "https://localhost:8080/",
          "height": 70
        },
        "id": "OX80BgaSRX_6",
        "outputId": "24949207-4ed4-49f9-8f2c-b32dd54479e3"
      },
      "execution_count": null,
      "outputs": [
        {
          "output_type": "execute_result",
          "data": {
            "text/plain": [
              "\"I am doing well, thank you for asking! As a large language model, I don't experience emotions or feelings in the same way humans do, but I am functioning optimally and ready to assist you. How can I help you today?\""
            ],
            "application/vnd.google.colaboratory.intrinsic+json": {
              "type": "string"
            }
          },
          "metadata": {},
          "execution_count": 8
        }
      ]
    },
    {
      "cell_type": "code",
      "source": [
        "store = {}\n",
        "\n",
        "def get_chat_history(session_id: str):\n",
        "  if session_id not in store:\n",
        "    store[session_id] = ChatMessageHistory()\n",
        "  return store[session_id]"
      ],
      "metadata": {
        "id": "JHB41QbOJcNk"
      },
      "execution_count": null,
      "outputs": []
    },
    {
      "cell_type": "code",
      "source": [
        "prompt = ChatPromptTemplate([(\"system\",\"You are a helpful AI assistant.\"),\n",
        "                             MessagesPlaceholder(variable_name=\"history\"),\n",
        "                             (\"human\",\"{input}\")])\n"
      ],
      "metadata": {
        "id": "GWepoSuyJt1Q"
      },
      "execution_count": null,
      "outputs": []
    },
    {
      "cell_type": "code",
      "source": [
        "chain = prompt|llm"
      ],
      "metadata": {
        "id": "c7DXl5yOK4yk"
      },
      "execution_count": null,
      "outputs": []
    },
    {
      "cell_type": "code",
      "source": [
        "chain_with_history = RunnableWithMessageHistory(\n",
        "    chain, get_chat_history, input_messages_key=\"input\",\n",
        "    history_messages_key=\"history\"\n",
        ")"
      ],
      "metadata": {
        "id": "fjRfJ3qxLKK2"
      },
      "execution_count": null,
      "outputs": []
    },
    {
      "cell_type": "code",
      "source": [
        "session_id = \"user_123\"\n",
        "\n",
        "response1 = chain_with_history.invoke({\"input\":\"Hi! How are you?\"},\n",
        "                                      config={\"configurable\":{\"session_id\":session_id}})\n",
        "\n",
        "print(\"AI:\", response1.content)\n",
        "\n",
        "response2 = chain_with_history.invoke({\"input\":\"What was my previous message?\"},\n",
        "                                      config={\"configurable\":{\"session_id\":session_id}})\n",
        "\n",
        "print(\"AI:\", response2.content)"
      ],
      "metadata": {
        "colab": {
          "base_uri": "https://localhost:8080/"
        },
        "id": "vwI32l5GLuL8",
        "outputId": "90835715-81da-4dc7-8a3d-7cfb0fae56a6"
      },
      "execution_count": null,
      "outputs": [
        {
          "output_type": "stream",
          "name": "stdout",
          "text": [
            "AI: Hi! As an AI, I don't experience emotions like humans do, so I don't \"feel\" in the same way. But I'm functioning well and ready to help you with whatever you need! How can I assist you today?\n",
            "AI: Your previous message was: \"Hi! How are you?\"\n"
          ]
        }
      ]
    },
    {
      "cell_type": "code",
      "source": [],
      "metadata": {
        "id": "3aUkXhLhMdlM"
      },
      "execution_count": null,
      "outputs": []
    }
  ]
}