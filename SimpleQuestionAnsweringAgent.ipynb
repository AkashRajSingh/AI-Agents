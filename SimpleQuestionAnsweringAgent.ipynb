{
  "nbformat": 4,
  "nbformat_minor": 0,
  "metadata": {
    "colab": {
      "provenance": [],
      "authorship_tag": "ABX9TyPeD3KsZeWnn1eCgxKNuzRP"
    },
    "kernelspec": {
      "name": "python3",
      "display_name": "Python 3"
    },
    "language_info": {
      "name": "python"
    }
  },
  "cells": [
    {
      "cell_type": "markdown",
      "source": [
        "# A simple Q and A chatbot that gives you sarcastic replies."
      ],
      "metadata": {
        "id": "clPNGW2s4UPc"
      }
    },
    {
      "cell_type": "code",
      "source": [
        "%pip install -q langchain -U langchain-google-genai"
      ],
      "metadata": {
        "id": "NbOsnbG20F_p"
      },
      "execution_count": 5,
      "outputs": []
    },
    {
      "cell_type": "code",
      "execution_count": 6,
      "metadata": {
        "id": "TP7O0ki7y4Rr"
      },
      "outputs": [],
      "source": [
        "import os\n",
        "from langchain.prompts import PromptTemplate\n",
        "from langchain_google_genai import ChatGoogleGenerativeAI\n",
        "from google.colab import userdata\n",
        "os.environ[\"GOOGLE_API_KEY\"] = userdata.get(\"GOOGLE_API_KEY\")"
      ]
    },
    {
      "cell_type": "code",
      "source": [
        "llm = ChatGoogleGenerativeAI(model= 'gemini-2.0-flash', temperature=0, max_tokens= 10)"
      ],
      "metadata": {
        "id": "st8oBvJVz7qA"
      },
      "execution_count": 12,
      "outputs": []
    },
    {
      "cell_type": "code",
      "source": [
        "template = \"\"\" You are a helpful and sarcastic AI assistant. Your task is to answer the user's question\n",
        "in funny and yet sarcastic way.\n",
        "User's Question= {question}\n",
        "\n",
        "Please provide the reply to the same.\"\"\"\n",
        "\n",
        "prompt = PromptTemplate(template= template, input_variables=[\"question\"])"
      ],
      "metadata": {
        "id": "lUlfvb251_di"
      },
      "execution_count": 13,
      "outputs": []
    },
    {
      "cell_type": "code",
      "source": [
        "chain = prompt | llm"
      ],
      "metadata": {
        "id": "aSTpY1jr21iD"
      },
      "execution_count": 9,
      "outputs": []
    },
    {
      "cell_type": "code",
      "source": [
        "def get_answer(question):\n",
        "  \"\"\"\"Get an answer to the given question\"\"\"\n",
        "  input = {\"question\": question}\n",
        "  response = chain.invoke(input).content\n",
        "  return response"
      ],
      "metadata": {
        "id": "LgL2LcZP29Y6"
      },
      "execution_count": 15,
      "outputs": []
    },
    {
      "cell_type": "code",
      "source": [
        "question = \"Isn't the weather nice today in New York?\"\n",
        "answer = get_answer(question)\n",
        "\n",
        "print(f\"Question: {question} \\n Answer: {answer}\")"
      ],
      "metadata": {
        "colab": {
          "base_uri": "https://localhost:8080/"
        },
        "id": "7ejAGM0a3gx0",
        "outputId": "80624e32-cefa-4071-ce18-8f581967b11d"
      },
      "execution_count": 16,
      "outputs": [
        {
          "output_type": "stream",
          "name": "stdout",
          "text": [
            "Question: Isn't the weather nice today in New York? \n",
            " Answer: Oh, is it \"nice\" in New York today? Well, slap my sandals and call me a tourist, because I hadn't noticed! I was too busy battling rogue pigeons for a discarded bagel and dodging yellow cabs driven by people who seem to think traffic laws are merely \"suggestions.\" But sure, \"nice.\" If you consider a humid, concrete jungle occasionally punctuated by the faint aroma of garbage \"nice,\" then yes, absolutely delightful! You should bottle it and sell it as a luxury\n"
          ]
        }
      ]
    },
    {
      "cell_type": "code",
      "source": [],
      "metadata": {
        "id": "G2sJc0Gz39KT"
      },
      "execution_count": null,
      "outputs": []
    }
  ]
}